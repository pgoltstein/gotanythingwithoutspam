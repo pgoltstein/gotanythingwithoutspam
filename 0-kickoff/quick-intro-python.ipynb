{
 "cells": [
  {
   "cell_type": "markdown",
   "id": "f8d75bff-f4af-4b6c-acc3-a5a387d533f4",
   "metadata": {},
   "source": [
    "# Quick intro to Python"
   ]
  },
  {
   "cell_type": "markdown",
   "id": "b9feee1d-0688-4aa3-a896-3a94b0b9ac3d",
   "metadata": {},
   "source": [
    "Below we will try out some code to see what it does"
   ]
  },
  {
   "cell_type": "markdown",
   "id": "1bf03aca-30e8-4f7f-93ca-a51d628c749d",
   "metadata": {
    "tags": []
   },
   "source": [
    "### Operators"
   ]
  },
  {
   "cell_type": "markdown",
   "id": "928761ca-fece-46b8-8154-162ce548daf3",
   "metadata": {},
   "source": [
    "Assignment"
   ]
  },
  {
   "cell_type": "code",
   "execution_count": 4,
   "id": "f14375fc-fc20-4f6f-a2f5-418364913766",
   "metadata": {},
   "outputs": [],
   "source": [
    "a = \"word\""
   ]
  },
  {
   "cell_type": "code",
   "execution_count": 5,
   "id": "4b396e41-5427-474a-bdca-b8177e031b47",
   "metadata": {},
   "outputs": [
    {
     "name": "stdout",
     "output_type": "stream",
     "text": [
      "word\n"
     ]
    }
   ],
   "source": [
    "print(a)"
   ]
  },
  {
   "cell_type": "code",
   "execution_count": 9,
   "id": "c62c9535-abac-42d6-b8d3-e9aae6581077",
   "metadata": {},
   "outputs": [
    {
     "data": {
      "text/plain": [
       "4.0"
      ]
     },
     "execution_count": 9,
     "metadata": {},
     "output_type": "execute_result"
    }
   ],
   "source": [
    "(2+4)*2 / 3"
   ]
  },
  {
   "cell_type": "code",
   "execution_count": 13,
   "id": "f8b75e60-22df-4f48-ab81-aa8109992e0e",
   "metadata": {},
   "outputs": [
    {
     "data": {
      "text/plain": [
       "False"
      ]
     },
     "execution_count": 13,
     "metadata": {},
     "output_type": "execute_result"
    }
   ],
   "source": [
    "3 == 3\n",
    "3 == \"three\""
   ]
  },
  {
   "cell_type": "code",
   "execution_count": 43,
   "id": "f0124e9d-a892-40f9-b09b-536809e1125e",
   "metadata": {},
   "outputs": [],
   "source": [
    "t1 = 257\n",
    "t2 = 257"
   ]
  },
  {
   "cell_type": "code",
   "execution_count": 16,
   "id": "75ebaa33-6655-4e53-9e3b-f931b86f1d61",
   "metadata": {},
   "outputs": [
    {
     "name": "stdout",
     "output_type": "stream",
     "text": [
      "3\n",
      "3.0\n"
     ]
    }
   ],
   "source": [
    "print(t1)\n",
    "print(t2)"
   ]
  },
  {
   "cell_type": "code",
   "execution_count": 18,
   "id": "ca9079bd-e856-43c8-8f2e-76224431884d",
   "metadata": {},
   "outputs": [
    {
     "name": "stdout",
     "output_type": "stream",
     "text": [
      "<class 'int'>\n",
      "<class 'float'>\n"
     ]
    }
   ],
   "source": [
    "print(type(t1))\n",
    "print(type(t2))"
   ]
  },
  {
   "cell_type": "code",
   "execution_count": 19,
   "id": "102cfff1-fc7a-4b14-b668-bf6952ad6b3e",
   "metadata": {},
   "outputs": [
    {
     "data": {
      "text/plain": [
       "True"
      ]
     },
     "execution_count": 19,
     "metadata": {},
     "output_type": "execute_result"
    }
   ],
   "source": [
    "t1 == t2"
   ]
  },
  {
   "cell_type": "code",
   "execution_count": 20,
   "id": "e57b17a3-c6f4-4917-8214-31e8f24121b0",
   "metadata": {},
   "outputs": [
    {
     "data": {
      "text/plain": [
       "False"
      ]
     },
     "execution_count": 20,
     "metadata": {},
     "output_type": "execute_result"
    }
   ],
   "source": [
    "t1 is t2"
   ]
  },
  {
   "cell_type": "code",
   "execution_count": 21,
   "id": "40099e61-84f6-43cb-a4b1-a91b7e8ec9ee",
   "metadata": {},
   "outputs": [],
   "source": [
    "t1 = t2"
   ]
  },
  {
   "cell_type": "code",
   "execution_count": 44,
   "id": "3bde4356-a67f-41e7-a6df-7add539fe16f",
   "metadata": {},
   "outputs": [
    {
     "data": {
      "text/plain": [
       "False"
      ]
     },
     "execution_count": 44,
     "metadata": {},
     "output_type": "execute_result"
    }
   ],
   "source": [
    "t1 is t2"
   ]
  },
  {
   "cell_type": "code",
   "execution_count": 46,
   "id": "55011797-9d3c-499a-b249-69382eab5f41",
   "metadata": {},
   "outputs": [
    {
     "data": {
      "text/plain": [
       "False"
      ]
     },
     "execution_count": 46,
     "metadata": {},
     "output_type": "execute_result"
    }
   ],
   "source": [
    "t1 != t2"
   ]
  },
  {
   "cell_type": "markdown",
   "id": "2e3ac96c-378b-468d-996b-1427cf6f184e",
   "metadata": {
    "tags": []
   },
   "source": [
    "### Variables"
   ]
  },
  {
   "cell_type": "markdown",
   "id": "8c25b189-c097-4ef5-8e69-91eb07d2996b",
   "metadata": {
    "tags": []
   },
   "source": [
    "The classics: int, float, str, bool"
   ]
  },
  {
   "cell_type": "code",
   "execution_count": 49,
   "id": "5eca0d1d-fbc1-4575-ac25-bd9d1919ccfd",
   "metadata": {},
   "outputs": [],
   "source": [
    "import numpy as np"
   ]
  },
  {
   "cell_type": "code",
   "execution_count": 50,
   "id": "961d7548-6e81-4400-8854-f95eaabfb3c7",
   "metadata": {},
   "outputs": [],
   "source": [
    "a = np.int16(123)\n",
    "b = np.int32(123)"
   ]
  },
  {
   "cell_type": "code",
   "execution_count": 51,
   "id": "47230eb6-f93d-4b48-9fb9-6116ef88f39b",
   "metadata": {},
   "outputs": [
    {
     "name": "stdout",
     "output_type": "stream",
     "text": [
      "123 123\n"
     ]
    }
   ],
   "source": [
    "print(a,b)"
   ]
  },
  {
   "cell_type": "code",
   "execution_count": 52,
   "id": "540488c7-72f1-4e5d-8e6e-559100904ac2",
   "metadata": {},
   "outputs": [
    {
     "data": {
      "text/plain": [
       "True"
      ]
     },
     "execution_count": 52,
     "metadata": {},
     "output_type": "execute_result"
    }
   ],
   "source": [
    "a==b"
   ]
  },
  {
   "cell_type": "code",
   "execution_count": 53,
   "id": "fba78731-54df-4e21-9d5e-9c90b4b834b4",
   "metadata": {},
   "outputs": [
    {
     "data": {
      "text/plain": [
       "False"
      ]
     },
     "execution_count": 53,
     "metadata": {},
     "output_type": "execute_result"
    }
   ],
   "source": [
    "a is b"
   ]
  },
  {
   "cell_type": "code",
   "execution_count": 54,
   "id": "1c9f762d-0f3c-4b9d-9c7b-f725b6c3f9bd",
   "metadata": {},
   "outputs": [],
   "source": [
    "c = a*b"
   ]
  },
  {
   "cell_type": "code",
   "execution_count": 55,
   "id": "a8d7f8a4-2bf4-4a86-8bca-6621e265a84c",
   "metadata": {},
   "outputs": [
    {
     "name": "stdout",
     "output_type": "stream",
     "text": [
      "15129 int32\n"
     ]
    }
   ],
   "source": [
    "print(c,c.dtype)"
   ]
  },
  {
   "cell_type": "code",
   "execution_count": 58,
   "id": "871a2482-b4d8-4ea3-9ae3-bef84c0ee232",
   "metadata": {},
   "outputs": [
    {
     "name": "stderr",
     "output_type": "stream",
     "text": [
      "<ipython-input-58-1ba5cd6ace6b>:1: DeprecationWarning: `np.int` is a deprecated alias for the builtin `int`. To silence this warning, use `int` by itself. Doing this will not modify any behavior and is safe. When replacing `np.int`, you may wish to use e.g. `np.int64` or `np.int32` to specify the precision. If you wish to review your current use, check the release note link for additional information.\n",
      "Deprecated in NumPy 1.20; for more details and guidance: https://numpy.org/devdocs/release/1.20.0-notes.html#deprecations\n",
      "  a = np.int(123)\n"
     ]
    },
    {
     "data": {
      "text/plain": [
       "int"
      ]
     },
     "execution_count": 58,
     "metadata": {},
     "output_type": "execute_result"
    }
   ],
   "source": [
    "a = np.int(123)\n",
    "type(a)"
   ]
  },
  {
   "cell_type": "markdown",
   "id": "2dc0e152-e5af-477e-b2e2-925221697b12",
   "metadata": {},
   "source": [
    "Collections: Tuple, List, Set, Dictionary"
   ]
  },
  {
   "cell_type": "code",
   "execution_count": 64,
   "id": "6963c4a6-6eee-4dd9-9e5a-a7459db46311",
   "metadata": {},
   "outputs": [],
   "source": [
    "t = [1,23,4,4]"
   ]
  },
  {
   "cell_type": "code",
   "execution_count": 65,
   "id": "7187cc07-6763-4078-96c3-6884bb126c82",
   "metadata": {},
   "outputs": [
    {
     "data": {
      "text/plain": [
       "[1, 23, 4, 4]"
      ]
     },
     "execution_count": 65,
     "metadata": {},
     "output_type": "execute_result"
    }
   ],
   "source": [
    "t"
   ]
  },
  {
   "cell_type": "code",
   "execution_count": 66,
   "id": "c5f761f9-6caa-4bf3-99fe-836332da3c21",
   "metadata": {},
   "outputs": [],
   "source": [
    "t[0] = 2"
   ]
  },
  {
   "cell_type": "code",
   "execution_count": 67,
   "id": "610aa1d4-e943-42e0-836f-e7c1b4d24bc9",
   "metadata": {},
   "outputs": [
    {
     "data": {
      "text/plain": [
       "[2, 23, 4, 4]"
      ]
     },
     "execution_count": 67,
     "metadata": {},
     "output_type": "execute_result"
    }
   ],
   "source": [
    "t"
   ]
  },
  {
   "cell_type": "code",
   "execution_count": 69,
   "id": "de15eaa8-3745-4bc0-8759-146585126ee3",
   "metadata": {},
   "outputs": [
    {
     "name": "stdout",
     "output_type": "stream",
     "text": [
      "[[2, 23, 4, 4], 123, 34, 'line of text']\n"
     ]
    }
   ],
   "source": [
    "m = [t, a, 34, \"line of text\"]\n",
    "print(m)"
   ]
  },
  {
   "cell_type": "code",
   "execution_count": 70,
   "id": "b552b3a9-4d0c-4bdd-adb3-736ebbb7c927",
   "metadata": {},
   "outputs": [
    {
     "name": "stdout",
     "output_type": "stream",
     "text": [
      "[2, 'haha new', 4, 4]\n"
     ]
    }
   ],
   "source": [
    "t[1] = \"haha new\"\n",
    "print(t)"
   ]
  },
  {
   "cell_type": "code",
   "execution_count": 71,
   "id": "777eddb5-1c97-4fb5-8132-d60300fee848",
   "metadata": {},
   "outputs": [
    {
     "name": "stdout",
     "output_type": "stream",
     "text": [
      "[[2, 'haha new', 4, 4], 123, 34, 'line of text']\n"
     ]
    }
   ],
   "source": [
    "print(m)"
   ]
  },
  {
   "cell_type": "code",
   "execution_count": 72,
   "id": "3604f31a-1f60-4b06-894c-ad91036dc374",
   "metadata": {},
   "outputs": [
    {
     "data": {
      "text/plain": [
       "{2, 3, 4, 5, 6, 7}"
      ]
     },
     "execution_count": 72,
     "metadata": {},
     "output_type": "execute_result"
    }
   ],
   "source": [
    "stim_list = [4,2,5,2,7,6,4,3,5]\n",
    "set(stim_list)"
   ]
  },
  {
   "cell_type": "code",
   "execution_count": 73,
   "id": "7b0e8e1e-53b9-4fc7-ba01-4f234b588751",
   "metadata": {},
   "outputs": [],
   "source": [
    "a = dict([[1,2],[3,4]])"
   ]
  },
  {
   "cell_type": "code",
   "execution_count": 77,
   "id": "937f305f-7e4b-4348-93ff-7998e5495477",
   "metadata": {},
   "outputs": [
    {
     "data": {
      "text/plain": [
       "4"
      ]
     },
     "execution_count": 77,
     "metadata": {},
     "output_type": "execute_result"
    }
   ],
   "source": [
    "a[3]"
   ]
  },
  {
   "cell_type": "code",
   "execution_count": 85,
   "id": "314fffe0-0f7b-49e2-9dad-f628f89b9b03",
   "metadata": {},
   "outputs": [],
   "source": [
    "a = {1: 2, 3: 4, \"name\": \"Danielle\", (3,6): [0.4,0.5,0.6] }"
   ]
  },
  {
   "cell_type": "code",
   "execution_count": 79,
   "id": "3e0b8a4e-4575-4316-b3d5-401f75c5f9ce",
   "metadata": {},
   "outputs": [
    {
     "data": {
      "text/plain": [
       "'Danielle'"
      ]
     },
     "execution_count": 79,
     "metadata": {},
     "output_type": "execute_result"
    }
   ],
   "source": [
    "a[\"name\"]"
   ]
  },
  {
   "cell_type": "code",
   "execution_count": 81,
   "id": "80687957-ea01-45c9-b6ec-36eb5954197f",
   "metadata": {},
   "outputs": [],
   "source": [
    "x = 3"
   ]
  },
  {
   "cell_type": "code",
   "execution_count": 82,
   "id": "39578754-c6ac-4cb3-91c4-127f20a3393e",
   "metadata": {},
   "outputs": [],
   "source": [
    "y = 6"
   ]
  },
  {
   "cell_type": "code",
   "execution_count": 83,
   "id": "5988bbbf-92df-4c50-bbb5-264d1bd67d82",
   "metadata": {},
   "outputs": [
    {
     "data": {
      "text/plain": [
       "[0.4, 0.5, 0.6]"
      ]
     },
     "execution_count": 83,
     "metadata": {},
     "output_type": "execute_result"
    }
   ],
   "source": [
    "a[(x,y)]"
   ]
  },
  {
   "cell_type": "markdown",
   "id": "9dabc60b-c9c6-41ea-888c-e0192a6d2a44",
   "metadata": {},
   "source": [
    "Collections module"
   ]
  },
  {
   "cell_type": "code",
   "execution_count": null,
   "id": "dafe9be6-7c2f-4052-922c-c861d21bb3c5",
   "metadata": {},
   "outputs": [],
   "source": []
  },
  {
   "cell_type": "markdown",
   "id": "5a39d024-366c-4acc-a47a-cbc65c8ed19a",
   "metadata": {},
   "source": [
    "Mutable versus immutable data"
   ]
  },
  {
   "cell_type": "code",
   "execution_count": null,
   "id": "d1ec18a3-5407-4c6e-9417-8565ca01ba5c",
   "metadata": {},
   "outputs": [],
   "source": []
  },
  {
   "cell_type": "markdown",
   "id": "2044ad6b-61b7-4b28-b297-c6509aba5b34",
   "metadata": {},
   "source": [
    "### Input / Output"
   ]
  },
  {
   "cell_type": "markdown",
   "id": "71adb3fb-4b32-45f8-908d-4477ed0ace57",
   "metadata": {},
   "source": [
    "Display"
   ]
  },
  {
   "cell_type": "code",
   "execution_count": null,
   "id": "f7b66bbd-2ff0-4cf5-bead-357e55ac99d2",
   "metadata": {},
   "outputs": [],
   "source": []
  },
  {
   "cell_type": "markdown",
   "id": "d3a84a26-c0d2-4f55-b2bd-7dbe34d1c4be",
   "metadata": {},
   "source": [
    "String formatting"
   ]
  },
  {
   "cell_type": "code",
   "execution_count": null,
   "id": "721df37c-faee-4f29-b9df-d130d67c0d85",
   "metadata": {},
   "outputs": [],
   "source": []
  },
  {
   "cell_type": "markdown",
   "id": "fe09f73c-a858-421a-bebb-92eb589ca80b",
   "metadata": {},
   "source": [
    "Keyboard input"
   ]
  },
  {
   "cell_type": "code",
   "execution_count": null,
   "id": "1c8e3235-9474-41f6-90e0-61c2fe4dec47",
   "metadata": {},
   "outputs": [],
   "source": []
  },
  {
   "cell_type": "markdown",
   "id": "860bfa32-ad44-4d84-b93b-498ca65ae23b",
   "metadata": {},
   "source": [
    "Mouse"
   ]
  },
  {
   "cell_type": "code",
   "execution_count": null,
   "id": "b5cd13c9-c741-42de-9e33-c494a5cab3bd",
   "metadata": {},
   "outputs": [],
   "source": []
  },
  {
   "cell_type": "markdown",
   "id": "b45eb3fc-73c7-467f-a4a7-bb5be51b3f7b",
   "metadata": {},
   "source": [
    "### Flow control"
   ]
  },
  {
   "cell_type": "markdown",
   "id": "079fc2c9-8139-4302-984b-0af7ca5ccfda",
   "metadata": {},
   "source": [
    "If, for, match -> case"
   ]
  },
  {
   "cell_type": "code",
   "execution_count": null,
   "id": "9108bb58-3dca-4369-8ee1-b2ab4f818921",
   "metadata": {},
   "outputs": [],
   "source": []
  },
  {
   "cell_type": "markdown",
   "id": "bf7ca13f-5bac-47ad-9440-4969ba0f744a",
   "metadata": {},
   "source": [
    "Exception handling (try -> except)"
   ]
  },
  {
   "cell_type": "code",
   "execution_count": null,
   "id": "42752fd1-3392-4f89-840b-f9363472be04",
   "metadata": {},
   "outputs": [],
   "source": []
  },
  {
   "cell_type": "markdown",
   "id": "413d9152-eb94-4a69-a5ac-90c1e728d590",
   "metadata": {},
   "source": [
    "Context manager (with)"
   ]
  },
  {
   "cell_type": "code",
   "execution_count": null,
   "id": "22b63ef1-d30d-493e-8171-af59a44f549c",
   "metadata": {},
   "outputs": [],
   "source": []
  },
  {
   "cell_type": "markdown",
   "id": "3c77402c-b485-4836-a184-daf505339058",
   "metadata": {},
   "source": [
    "### Functions"
   ]
  },
  {
   "cell_type": "markdown",
   "id": "b5069eb2-0eb2-4e13-961d-92642b9f1f4e",
   "metadata": {},
   "source": [
    "Standard functions"
   ]
  },
  {
   "cell_type": "code",
   "execution_count": null,
   "id": "172c984e-04f6-49b2-b6e8-cf9fc0c41368",
   "metadata": {},
   "outputs": [],
   "source": []
  },
  {
   "cell_type": "markdown",
   "id": "95e20a4e-bdae-456a-8374-58f0031859e9",
   "metadata": {},
   "source": [
    "Function references"
   ]
  },
  {
   "cell_type": "code",
   "execution_count": null,
   "id": "121e5381-98b5-45a1-b6c1-36924ad76b9f",
   "metadata": {},
   "outputs": [],
   "source": []
  },
  {
   "cell_type": "markdown",
   "id": "1745c678-828c-4f40-a7cc-eeef32a963ae",
   "metadata": {},
   "source": [
    "lambda functions"
   ]
  },
  {
   "cell_type": "code",
   "execution_count": null,
   "id": "f0e86e14-0ba4-4793-93ff-e356411ac35d",
   "metadata": {},
   "outputs": [],
   "source": []
  },
  {
   "cell_type": "markdown",
   "id": "0cde6ec7-9402-4162-af24-6292b091d081",
   "metadata": {},
   "source": [
    "### Numpy"
   ]
  },
  {
   "cell_type": "markdown",
   "id": "073cb3df-5aaf-4567-b7b4-4b897cdb7d06",
   "metadata": {},
   "source": [
    "Representing numeric arrays, matrices"
   ]
  },
  {
   "cell_type": "code",
   "execution_count": null,
   "id": "bd58e869-8baa-4c03-b024-e32b30f6d208",
   "metadata": {},
   "outputs": [],
   "source": []
  },
  {
   "cell_type": "markdown",
   "id": "18f69d21-a114-4bdb-8317-9f76ecfec816",
   "metadata": {},
   "source": [
    "Fast indexing/slicing, boolean logic, matrix calculations"
   ]
  },
  {
   "cell_type": "code",
   "execution_count": null,
   "id": "6eac3910-cf86-4516-bfc6-b2ab00541190",
   "metadata": {},
   "outputs": [],
   "source": []
  },
  {
   "cell_type": "markdown",
   "id": "18754593-8e56-42ab-bcd8-c9e83a778b5e",
   "metadata": {},
   "source": [
    "Loading and saving"
   ]
  },
  {
   "cell_type": "code",
   "execution_count": null,
   "id": "a8e690ed-bb93-424f-9a9c-d6823bc3916e",
   "metadata": {},
   "outputs": [],
   "source": []
  },
  {
   "cell_type": "markdown",
   "id": "0989baaf-108b-4f7b-8979-b5b07570dc49",
   "metadata": {},
   "source": [
    "### Plotting data"
   ]
  },
  {
   "cell_type": "code",
   "execution_count": null,
   "id": "4917c927-c7a5-406c-aa81-c5043127fccf",
   "metadata": {},
   "outputs": [],
   "source": []
  },
  {
   "cell_type": "code",
   "execution_count": null,
   "id": "4b92ab76-e346-4c3b-b435-bae1bface1b8",
   "metadata": {},
   "outputs": [],
   "source": []
  }
 ],
 "metadata": {
  "kernelspec": {
   "display_name": "Python 3",
   "language": "python",
   "name": "python3"
  },
  "language_info": {
   "codemirror_mode": {
    "name": "ipython",
    "version": 3
   },
   "file_extension": ".py",
   "mimetype": "text/x-python",
   "name": "python",
   "nbconvert_exporter": "python",
   "pygments_lexer": "ipython3",
   "version": "3.8.12"
  }
 },
 "nbformat": 4,
 "nbformat_minor": 5
}
