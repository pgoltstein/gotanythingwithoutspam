{
 "cells": [
  {
   "cell_type": "markdown",
   "id": "f8d75bff-f4af-4b6c-acc3-a5a387d533f4",
   "metadata": {},
   "source": [
    "# Quick intro to Python"
   ]
  },
  {
   "cell_type": "markdown",
   "id": "b9feee1d-0688-4aa3-a896-3a94b0b9ac3d",
   "metadata": {},
   "source": [
    "Below we will try out some code to see what it does"
   ]
  },
  {
   "cell_type": "markdown",
   "id": "2e3ac96c-378b-468d-996b-1427cf6f184e",
   "metadata": {},
   "source": [
    "### Variables"
   ]
  },
  {
   "cell_type": "markdown",
   "id": "8c25b189-c097-4ef5-8e69-91eb07d2996b",
   "metadata": {},
   "source": [
    "The classics: int, float, str, bool"
   ]
  },
  {
   "cell_type": "code",
   "execution_count": null,
   "id": "5eca0d1d-fbc1-4575-ac25-bd9d1919ccfd",
   "metadata": {},
   "outputs": [],
   "source": []
  },
  {
   "cell_type": "markdown",
   "id": "2dc0e152-e5af-477e-b2e2-925221697b12",
   "metadata": {},
   "source": [
    "Collections: Tuple, List, Set, Dictionary"
   ]
  },
  {
   "cell_type": "code",
   "execution_count": null,
   "id": "af8224ea-2aa3-4981-a567-3bc883eea29c",
   "metadata": {},
   "outputs": [],
   "source": []
  },
  {
   "cell_type": "markdown",
   "id": "9dabc60b-c9c6-41ea-888c-e0192a6d2a44",
   "metadata": {},
   "source": [
    "Collections module"
   ]
  },
  {
   "cell_type": "code",
   "execution_count": 3,
   "id": "dafe9be6-7c2f-4052-922c-c861d21bb3c5",
   "metadata": {},
   "outputs": [],
   "source": []
  },
  {
   "cell_type": "markdown",
   "id": "b45eb3fc-73c7-467f-a4a7-bb5be51b3f7b",
   "metadata": {},
   "source": [
    "### Flow control"
   ]
  },
  {
   "cell_type": "markdown",
   "id": "079fc2c9-8139-4302-984b-0af7ca5ccfda",
   "metadata": {},
   "source": [
    "If, for, match -> case"
   ]
  },
  {
   "cell_type": "code",
   "execution_count": null,
   "id": "9108bb58-3dca-4369-8ee1-b2ab4f818921",
   "metadata": {},
   "outputs": [],
   "source": []
  },
  {
   "cell_type": "markdown",
   "id": "bf7ca13f-5bac-47ad-9440-4969ba0f744a",
   "metadata": {},
   "source": [
    "Exception handling (try -> except)"
   ]
  },
  {
   "cell_type": "code",
   "execution_count": null,
   "id": "42752fd1-3392-4f89-840b-f9363472be04",
   "metadata": {},
   "outputs": [],
   "source": []
  },
  {
   "cell_type": "markdown",
   "id": "413d9152-eb94-4a69-a5ac-90c1e728d590",
   "metadata": {},
   "source": [
    "Context manager (with)"
   ]
  },
  {
   "cell_type": "code",
   "execution_count": 11,
   "id": "22b63ef1-d30d-493e-8171-af59a44f549c",
   "metadata": {},
   "outputs": [],
   "source": [
    "with open('testfile.txt', 'w') as file:\n",
    "    file.write('hello world !')"
   ]
  },
  {
   "cell_type": "code",
   "execution_count": 12,
   "id": "e0b56856-3017-4d25-aed0-10eeece87638",
   "metadata": {},
   "outputs": [
    {
     "name": "stdout",
     "output_type": "stream",
     "text": [
      "hello world !\n"
     ]
    }
   ],
   "source": [
    "with open('testfile.txt', 'r') as file:\n",
    "    print(file.read())"
   ]
  },
  {
   "cell_type": "markdown",
   "id": "3c77402c-b485-4836-a184-daf505339058",
   "metadata": {},
   "source": [
    "### Function"
   ]
  },
  {
   "cell_type": "markdown",
   "id": "b5069eb2-0eb2-4e13-961d-92642b9f1f4e",
   "metadata": {},
   "source": [
    "Standard functions"
   ]
  },
  {
   "cell_type": "code",
   "execution_count": null,
   "id": "172c984e-04f6-49b2-b6e8-cf9fc0c41368",
   "metadata": {},
   "outputs": [],
   "source": []
  },
  {
   "cell_type": "markdown",
   "id": "95e20a4e-bdae-456a-8374-58f0031859e9",
   "metadata": {},
   "source": [
    "Function references"
   ]
  },
  {
   "cell_type": "code",
   "execution_count": null,
   "id": "121e5381-98b5-45a1-b6c1-36924ad76b9f",
   "metadata": {},
   "outputs": [],
   "source": []
  },
  {
   "cell_type": "markdown",
   "id": "1745c678-828c-4f40-a7cc-eeef32a963ae",
   "metadata": {},
   "source": [
    "lambda functions"
   ]
  },
  {
   "cell_type": "code",
   "execution_count": null,
   "id": "f0e86e14-0ba4-4793-93ff-e356411ac35d",
   "metadata": {},
   "outputs": [],
   "source": []
  },
  {
   "cell_type": "markdown",
   "id": "2044ad6b-61b7-4b28-b297-c6509aba5b34",
   "metadata": {},
   "source": [
    "### Input / Output"
   ]
  },
  {
   "cell_type": "markdown",
   "id": "71adb3fb-4b32-45f8-908d-4477ed0ace57",
   "metadata": {},
   "source": [
    "Display"
   ]
  },
  {
   "cell_type": "code",
   "execution_count": null,
   "id": "f7b66bbd-2ff0-4cf5-bead-357e55ac99d2",
   "metadata": {},
   "outputs": [],
   "source": []
  },
  {
   "cell_type": "markdown",
   "id": "d3a84a26-c0d2-4f55-b2bd-7dbe34d1c4be",
   "metadata": {},
   "source": [
    "String formatting"
   ]
  },
  {
   "cell_type": "code",
   "execution_count": null,
   "id": "721df37c-faee-4f29-b9df-d130d67c0d85",
   "metadata": {},
   "outputs": [],
   "source": []
  },
  {
   "cell_type": "markdown",
   "id": "fe09f73c-a858-421a-bebb-92eb589ca80b",
   "metadata": {},
   "source": [
    "Keyboard input"
   ]
  },
  {
   "cell_type": "code",
   "execution_count": null,
   "id": "1c8e3235-9474-41f6-90e0-61c2fe4dec47",
   "metadata": {},
   "outputs": [],
   "source": []
  },
  {
   "cell_type": "markdown",
   "id": "860bfa32-ad44-4d84-b93b-498ca65ae23b",
   "metadata": {},
   "source": [
    "Mouse"
   ]
  },
  {
   "cell_type": "code",
   "execution_count": null,
   "id": "b5cd13c9-c741-42de-9e33-c494a5cab3bd",
   "metadata": {},
   "outputs": [],
   "source": []
  },
  {
   "cell_type": "markdown",
   "id": "aa5b3aee-83be-4c52-82ff-43094f1f735c",
   "metadata": {},
   "source": []
  },
  {
   "cell_type": "markdown",
   "id": "0cde6ec7-9402-4162-af24-6292b091d081",
   "metadata": {},
   "source": [
    "### Numpy"
   ]
  },
  {
   "cell_type": "markdown",
   "id": "073cb3df-5aaf-4567-b7b4-4b897cdb7d06",
   "metadata": {},
   "source": [
    "Representing numeric arrays, matrices"
   ]
  },
  {
   "cell_type": "code",
   "execution_count": null,
   "id": "bd58e869-8baa-4c03-b024-e32b30f6d208",
   "metadata": {},
   "outputs": [],
   "source": []
  },
  {
   "cell_type": "markdown",
   "id": "18f69d21-a114-4bdb-8317-9f76ecfec816",
   "metadata": {},
   "source": [
    "Fast indexing/slicing, boolean logic, matrix calculations"
   ]
  },
  {
   "cell_type": "code",
   "execution_count": null,
   "id": "6eac3910-cf86-4516-bfc6-b2ab00541190",
   "metadata": {},
   "outputs": [],
   "source": []
  },
  {
   "cell_type": "markdown",
   "id": "18754593-8e56-42ab-bcd8-c9e83a778b5e",
   "metadata": {},
   "source": [
    "Loading and saving"
   ]
  },
  {
   "cell_type": "code",
   "execution_count": null,
   "id": "a8e690ed-bb93-424f-9a9c-d6823bc3916e",
   "metadata": {},
   "outputs": [],
   "source": []
  },
  {
   "cell_type": "markdown",
   "id": "0989baaf-108b-4f7b-8979-b5b07570dc49",
   "metadata": {},
   "source": [
    "### Plotting data"
   ]
  },
  {
   "cell_type": "code",
   "execution_count": null,
   "id": "4917c927-c7a5-406c-aa81-c5043127fccf",
   "metadata": {},
   "outputs": [],
   "source": []
  },
  {
   "cell_type": "code",
   "execution_count": null,
   "id": "4b92ab76-e346-4c3b-b435-bae1bface1b8",
   "metadata": {},
   "outputs": [],
   "source": []
  }
 ],
 "metadata": {
  "kernelspec": {
   "display_name": "Python 3",
   "language": "python",
   "name": "python3"
  },
  "language_info": {
   "codemirror_mode": {
    "name": "ipython",
    "version": 3
   },
   "file_extension": ".py",
   "mimetype": "text/x-python",
   "name": "python",
   "nbconvert_exporter": "python",
   "pygments_lexer": "ipython3",
   "version": "3.8.12"
  }
 },
 "nbformat": 4,
 "nbformat_minor": 5
}
