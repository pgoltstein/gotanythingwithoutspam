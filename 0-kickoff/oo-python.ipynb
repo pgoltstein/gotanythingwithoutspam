{
 "cells": [
  {
   "cell_type": "markdown",
   "id": "dcbfc4a0-1c13-4e27-b28f-4a99af5b172c",
   "metadata": {},
   "source": [
    "# Object oriented programming in python"
   ]
  },
  {
   "cell_type": "markdown",
   "id": "a0182679-a560-4aad-8d49-2c3586197baf",
   "metadata": {},
   "source": [
    "### Basics"
   ]
  },
  {
   "cell_type": "markdown",
   "id": "4d6cf4c2-668d-45af-a569-d8eca5f70fe5",
   "metadata": {},
   "source": [
    "Defining a class"
   ]
  },
  {
   "cell_type": "code",
   "execution_count": 7,
   "id": "69d0e593-635a-44c2-ab7a-bfa092cb5982",
   "metadata": {},
   "outputs": [],
   "source": [
    "class menuitem:\n",
    "    \"\"\"\n",
    "    Class to represent a menu option\n",
    "\n",
    "    Inputs\n",
    "    nr:           Int\n",
    "    name:         String\n",
    "    ingredients:  List of strings\n",
    "    price:        Float\n",
    "    \"\"\"\n",
    "\n",
    "    def __init__(self, nr, name, ingredients, price):\n",
    "        self.__nr = int(nr)\n",
    "        self.__name = name\n",
    "        self.__ingredients = ingredients\n",
    "        self.__price = float(price)\n",
    "\n",
    "    def __str__(self):\n",
    "        ingredients_str = \", \".join(self.__ingredients)\n",
    "        return \"{}) {}: \\N{euro sign}{}\\n   Ingredients: {}\".format(\n",
    "            self.__nr, self.__name, self.__price, ingredients_str)"
   ]
  },
  {
   "cell_type": "code",
   "execution_count": 2,
   "id": "99259783-d0fc-4977-8100-576e3466d555",
   "metadata": {},
   "outputs": [],
   "source": [
    "a = menuitem(1, \"spamelette\", [\"eggs\", \"spam\"], 4.77)"
   ]
  },
  {
   "cell_type": "code",
   "execution_count": 3,
   "id": "4b7adc7f-a37b-4f61-897c-b3c48203d52d",
   "metadata": {},
   "outputs": [
    {
     "name": "stdout",
     "output_type": "stream",
     "text": [
      "1) spamelette: €4.77\n",
      "   Ingredients: eggs, spam\n"
     ]
    }
   ],
   "source": [
    "print(a)"
   ]
  }
 ],
 "metadata": {
  "kernelspec": {
   "display_name": "Python 3",
   "language": "python",
   "name": "python3"
  },
  "language_info": {
   "codemirror_mode": {
    "name": "ipython",
    "version": 3
   },
   "file_extension": ".py",
   "mimetype": "text/x-python",
   "name": "python",
   "nbconvert_exporter": "python",
   "pygments_lexer": "ipython3",
   "version": "3.8.12"
  }
 },
 "nbformat": 4,
 "nbformat_minor": 5
}
