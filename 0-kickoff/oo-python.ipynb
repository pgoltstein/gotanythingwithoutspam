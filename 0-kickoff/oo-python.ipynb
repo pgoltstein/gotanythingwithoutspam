{
 "cells": [
  {
   "cell_type": "markdown",
   "id": "dcbfc4a0-1c13-4e27-b28f-4a99af5b172c",
   "metadata": {},
   "source": [
    "# Object oriented programming in python"
   ]
  },
  {
   "cell_type": "markdown",
   "id": "a0182679-a560-4aad-8d49-2c3586197baf",
   "metadata": {},
   "source": [
    "### Basics"
   ]
  },
  {
   "cell_type": "markdown",
   "id": "4d6cf4c2-668d-45af-a569-d8eca5f70fe5",
   "metadata": {},
   "source": [
    "Defining a class"
   ]
  },
  {
   "cell_type": "code",
   "execution_count": null,
   "id": "99259783-d0fc-4977-8100-576e3466d555",
   "metadata": {},
   "outputs": [],
   "source": []
  },
  {
   "cell_type": "code",
   "execution_count": null,
   "id": "3014a292-87b1-4c38-a274-1a5e04acaa6c",
   "metadata": {},
   "outputs": [],
   "source": []
  }
 ],
 "metadata": {
  "kernelspec": {
   "display_name": "Python 3",
   "language": "python",
   "name": "python3"
  },
  "language_info": {
   "codemirror_mode": {
    "name": "ipython",
    "version": 3
   },
   "file_extension": ".py",
   "mimetype": "text/x-python",
   "name": "python",
   "nbconvert_exporter": "python",
   "pygments_lexer": "ipython3",
   "version": "3.8.12"
  }
 },
 "nbformat": 4,
 "nbformat_minor": 5
}
