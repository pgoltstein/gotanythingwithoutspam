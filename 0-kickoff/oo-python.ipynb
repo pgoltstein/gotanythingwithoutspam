{
 "cells": [
  {
   "cell_type": "markdown",
   "id": "dcbfc4a0-1c13-4e27-b28f-4a99af5b172c",
   "metadata": {},
   "source": [
    "# Object oriented programming in python"
   ]
  },
  {
   "cell_type": "markdown",
   "id": "a0182679-a560-4aad-8d49-2c3586197baf",
   "metadata": {},
   "source": [
    "### Basics"
   ]
  },
  {
   "cell_type": "markdown",
   "id": "4d6cf4c2-668d-45af-a569-d8eca5f70fe5",
   "metadata": {},
   "source": [
    "Defining a class"
   ]
  },
  {
   "cell_type": "code",
   "execution_count": null,
   "id": "d18ec541-3619-4d2d-84d6-9ae93c9f27b1",
   "metadata": {},
   "outputs": [],
   "source": []
  },
  {
   "cell_type": "code",
   "execution_count": 60,
   "id": "99259783-d0fc-4977-8100-576e3466d555",
   "metadata": {},
   "outputs": [],
   "source": [
    "class menuitem(object):\n",
    "    inst_var = \"rest name\"\n",
    "    \n",
    "    def __init__(self, name):\n",
    "        self.__name = name\n",
    "    \n",
    "    def __str__(self):\n",
    "        return \"i'm a menuitem named {}\".format(self.__name)\n",
    "        \n",
    "    @property\n",
    "    def name(self):\n",
    "        return self.__name\n",
    "    \n",
    "    @name.setter\n",
    "    def name(self,newname):\n",
    "        if type(newname) == str:\n",
    "            self.__name = newname\n",
    "        else:\n",
    "            print(\"supply string variable please\")\n",
    "    \n",
    "    def calcu_price(self):\n",
    "        return 23\n",
    "    "
   ]
  },
  {
   "cell_type": "code",
   "execution_count": 61,
   "id": "3014a292-87b1-4c38-a274-1a5e04acaa6c",
   "metadata": {},
   "outputs": [],
   "source": [
    "sage = menuitem(name=\"sage\")"
   ]
  },
  {
   "cell_type": "code",
   "execution_count": 62,
   "id": "b02a0f03-664c-4e10-9628-a1cc879ff153",
   "metadata": {},
   "outputs": [
    {
     "name": "stdout",
     "output_type": "stream",
     "text": [
      "i'm a menuitem named sage\n"
     ]
    }
   ],
   "source": [
    "print(sage)"
   ]
  },
  {
   "cell_type": "code",
   "execution_count": 63,
   "id": "1f6e693f-4a43-46c5-a0e6-f8923ab22f8a",
   "metadata": {},
   "outputs": [
    {
     "data": {
      "text/plain": [
       "23"
      ]
     },
     "execution_count": 63,
     "metadata": {},
     "output_type": "execute_result"
    }
   ],
   "source": [
    "sage.calcu_price()"
   ]
  },
  {
   "cell_type": "code",
   "execution_count": 64,
   "id": "6c898e99-2cd8-47a6-b68f-2dec32443c4d",
   "metadata": {},
   "outputs": [
    {
     "name": "stdout",
     "output_type": "stream",
     "text": [
      "supply string variable please\n"
     ]
    }
   ],
   "source": [
    "sage.name = 23\n"
   ]
  },
  {
   "cell_type": "code",
   "execution_count": 65,
   "id": "e6f79826-565a-43ea-975f-65faaa634c60",
   "metadata": {},
   "outputs": [],
   "source": [
    "sage.name = \"abc\""
   ]
  },
  {
   "cell_type": "code",
   "execution_count": 66,
   "id": "2944c13f-a3b9-474f-8344-c521132f1685",
   "metadata": {},
   "outputs": [
    {
     "name": "stdout",
     "output_type": "stream",
     "text": [
      "i'm a menuitem named abc\n"
     ]
    }
   ],
   "source": [
    "print(sage)"
   ]
  },
  {
   "cell_type": "code",
   "execution_count": null,
   "id": "c2429bd4-8a27-447d-a18d-b31c4335732c",
   "metadata": {},
   "outputs": [],
   "source": []
  }
 ],
 "metadata": {
  "kernelspec": {
   "display_name": "Python 3",
   "language": "python",
   "name": "python3"
  },
  "language_info": {
   "codemirror_mode": {
    "name": "ipython",
    "version": 3
   },
   "file_extension": ".py",
   "mimetype": "text/x-python",
   "name": "python",
   "nbconvert_exporter": "python",
   "pygments_lexer": "ipython3",
   "version": "3.8.12"
  }
 },
 "nbformat": 4,
 "nbformat_minor": 5
}
